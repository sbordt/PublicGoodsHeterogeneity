{
 "cells": [
  {
   "cell_type": "markdown",
   "metadata": {},
   "source": [
    "# Compute Standard Errors given Bootstrap Replications "
   ]
  },
  {
   "cell_type": "code",
   "execution_count": 18,
   "metadata": {
    "collapsed": true
   },
   "outputs": [],
   "source": [
    "import pandas\n",
    "import matplotlib.pyplot as plt\n",
    "import cPickle as pickle\n",
    "import numpy as np\n",
    "\n",
    "path = \"..\\\\data\\\\\""
   ]
  },
  {
   "cell_type": "markdown",
   "metadata": {},
   "source": [
    "## General Code"
   ]
  },
  {
   "cell_type": "code",
   "execution_count": 19,
   "metadata": {
    "collapsed": true
   },
   "outputs": [],
   "source": [
    "def subgroup(ass_repl, ass):    \n",
    "    a1 = np.array(ass_repl)\n",
    "    a2 = np.array([1-v if v != -1 else -1 for v in ass_repl])   # 0 and 1 interchanged\n",
    "    N = float(sum(a1 != -1))\n",
    "    \n",
    "    b = np.array([v if a1[i] != -1 else -1 for i, v in enumerate(ass)])   # -1 where ass_repl is -1\n",
    "    \n",
    "    error_1 = sum(a1 != b)/N\n",
    "    error_2 = sum(a2 != b)/N\n",
    "    \n",
    "    if error_1 < error_2:\n",
    "        return a1.tolist(), error_1\n",
    "    \n",
    "    return a2.tolist(), error_2"
   ]
  },
  {
   "cell_type": "code",
   "execution_count": 20,
   "metadata": {
    "collapsed": true
   },
   "outputs": [],
   "source": [
    "def best_group(ass_repl, ass):\n",
    "    N = len(ass)\n",
    "    \n",
    "    n1 = sum([1 if ass_repl[i] == 1 and ass[i] == 0 else 0 for i in xrange(N)])   # 1 and 0\n",
    "    n2 = sum([1 if ass_repl[i] == 1 and ass[i] == 1 else 0 for i in xrange(N)])   # 1 and 1 \n",
    "    n3 = sum([1 if ass_repl[i] == 0 and ass[i] == 1 else 0 for i in xrange(N)])   # 0 and 1\n",
    "    n4 = sum([1 if ass_repl[i] == 0 and ass[i] == 0 else 0 for i in xrange(N)])   # 0 and 0\n",
    "    \n",
    "    C1 = float(sum([1 if ass_repl[i] == 1 else 0 for i in xrange(N)]))\n",
    "    C0 = float(sum([1 if ass_repl[i] == 0 else 0 for i in xrange(N)]))\n",
    "    \n",
    "    return np.max([n1/C1, n2/C1, n3/C0, n4/C0])"
   ]
  },
  {
   "cell_type": "code",
   "execution_count": 21,
   "metadata": {
    "collapsed": true
   },
   "outputs": [],
   "source": [
    "def groupings_relation(ass_repl, ass):\n",
    "    N = len(ass)\n",
    "    \n",
    "    r0 = float(sum([1 if ass_repl[i] == 0 else 0 for i in xrange(N)]))   # number of 0s in repl  \n",
    "    r1 = float(sum([1 if ass_repl[i] == 1 else 0 for i in xrange(N)]))   # number of 1s in repl  \n",
    "    \n",
    "    e1 = sum([1 if ass_repl[i] != -1 and ass_repl[i] != ass[i] else 0 for i in xrange(N)])\n",
    "    e2 = sum([1 if ass_repl[i] != -1 and 1-ass_repl[i] != ass[i] else 0 for i in xrange(N)])\n",
    "    \n",
    "    if e1 <= e2:\n",
    "        r0_o0 = sum([1 if ass_repl[i] == 0 and ass[i] == 0 else 0 for i in xrange(N)])   # repl 0 and original 0\n",
    "        r1_o1 = sum([1 if ass_repl[i] == 1 and ass[i] == 1 else 0 for i in xrange(N)])   # repl 1 and original 1 \n",
    "        i = np.argmax([r0_o0/r0, r1_o1/r1])\n",
    "        \n",
    "        return e1, ass_repl, [r0_o0/r0, r1_o1/r1][i], [0, 1][i]\n",
    "             \n",
    "    r1_o0 = sum([1 if ass_repl[i] == 1 and ass[i] == 0 else 0 for i in xrange(N)])   # repl 1 and original 0\n",
    "    r0_o1 = sum([1 if ass_repl[i] == 0 and ass[i] == 1 else 0 for i in xrange(N)])   # repl 0 and original 1\n",
    "    j = np.argmax([r0_o1/r0, r1_o0/r1])\n",
    "\n",
    "    return e2, [1-ass_repl[i] if ass_repl[i] != -1 else -1 for i in xrange(N)], [r0_o1/r0, r1_o0/r1][j], [1, 0][j]"
   ]
  },
  {
   "cell_type": "code",
   "execution_count": 22,
   "metadata": {
    "scrolled": true
   },
   "outputs": [
    {
     "name": "stdout",
     "output_type": "stream",
     "text": [
      "(0, [-1, -1, -1, 1, 1, 0, 0, 0, -1, -1], 1.0, 0)\n",
      "(0, [-1, -1, -1, 1, 1, 0, 0, 0, -1, -1], 1.0, 1)\n",
      "(2, [-1, -1, -1, 1, 0, 1, 0, -1, -1, -1], 0.5, 0)\n",
      "(1, [-1, -1, -1, 1, 1, 1, 0, -1, -1, -1], 1.0, 0)\n",
      "(1, [-1, -1, -1, 1, 1, 1, 0, -1, -1, -1], 1.0, 0)\n"
     ]
    }
   ],
   "source": [
    "# test\n",
    "print groupings_relation([-1, -1, -1, 1, 1, 0, 0, 0, -1, -1], [1, 1, 1, 1, 1, 0, 0, 0, 0, 0])\n",
    "print groupings_relation([-1, -1, -1, 0, 0, 1, 1, 1, -1, -1], [1, 1, 1, 1, 1, 0, 0, 0, 0, 0])\n",
    "print groupings_relation([-1, -1, -1, 1, 0, 1, 0, -1, -1, -1], [1, 1, 1, 1, 1, 0, 0, 0, 0, 0])\n",
    "print groupings_relation([-1, -1, -1, 1, 1, 1, 0, -1, -1, -1], [1, 1, 1, 1, 1, 0, 0, 0, 0, 0])\n",
    "print groupings_relation([-1, -1, -1, 0, 0, 0, 1, -1, -1, -1], [1, 1, 1, 1, 1, 0, 0, 0, 0, 0])"
   ]
  },
  {
   "cell_type": "markdown",
   "metadata": {},
   "source": [
    "## Load data (Fehr & Gächter 2010 and deOliveira (2015))"
   ]
  },
  {
   "cell_type": "code",
   "execution_count": 23,
   "metadata": {},
   "outputs": [],
   "source": [
    "bdata = {}\n",
    "\n",
    "for case in[\"fg2010_\", \"deOliveira_\"]:\n",
    "    for var in [\"betaHet\", \"alpha\", \"ass\", \"betaHet_repl\", \"ass_repl\"]:\n",
    "        bdata[case+var] = pickle.load( open(path+case+var+\".pkl\", 'rb') )"
   ]
  },
  {
   "cell_type": "code",
   "execution_count": 24,
   "metadata": {},
   "outputs": [
    {
     "data": {
      "text/plain": [
       "['fg2010_alpha',\n",
       " 'fg2010_ass_repl',\n",
       " 'deOliveira_betaHet',\n",
       " 'deOliveira_betaHet_repl',\n",
       " 'fg2010_betaHet_repl',\n",
       " 'fg2010_ass',\n",
       " 'deOliveira_ass',\n",
       " 'fg2010_betaHet',\n",
       " 'deOliveira_ass_repl',\n",
       " 'deOliveira_alpha']"
      ]
     },
     "execution_count": 24,
     "metadata": {},
     "output_type": "execute_result"
    }
   ],
   "source": [
    "bdata.keys()"
   ]
  },
  {
   "cell_type": "code",
   "execution_count": 25,
   "metadata": {},
   "outputs": [
    {
     "data": {
      "text/plain": [
       "(102, 102)"
      ]
     },
     "execution_count": 25,
     "metadata": {},
     "output_type": "execute_result"
    }
   ],
   "source": [
    "len(ass), len(ass_repl)"
   ]
  },
  {
   "cell_type": "markdown",
   "metadata": {},
   "source": [
    "## FG2010 Bootstrapped Standard Errors"
   ]
  },
  {
   "cell_type": "code",
   "execution_count": 26,
   "metadata": {
    "scrolled": true
   },
   "outputs": [
    {
     "name": "stdout",
     "output_type": "stream",
     "text": [
      "--------------------------------------------------------------------------\n",
      "                                fg2010_\n",
      "--------------------------------------------------------------------------\n",
      "[[0.309555   0.19899602]\n",
      " [0.67483023 0.19370317]]\n",
      "[[0.5253562  0.4157215 ]\n",
      " [0.44760618 0.1947044 ]]\n",
      "[[0.18281183 0.59740372]\n",
      " [0.66533187 0.37643996]]\n",
      "[[0.21007764 0.66791208]\n",
      " [1.08582388 1.21513619]]\n"
     ]
    },
    {
     "data": {
      "image/png": "[encoded data removed]",
      "text/plain": [
       "<Figure size 432x288 with 1 Axes>"
      ]
     },
     "metadata": {
      "needs_background": "light"
     },
     "output_type": "display_data"
    },
    {
     "data": {
      "image/png": "[encoded data removed]",
      "text/plain": [
       "<Figure size 432x288 with 1 Axes>"
      ]
     },
     "metadata": {
      "needs_background": "light"
     },
     "output_type": "display_data"
    },
    {
     "data": {
      "image/png": "[encoded data removed]",
      "text/plain": [
       "<Figure size 432x288 with 1 Axes>"
      ]
     },
     "metadata": {
      "needs_background": "light"
     },
     "output_type": "display_data"
    },
    {
     "data": {
      "image/png": "[encoded data removed]",
      "text/plain": [
       "<Figure size 432x288 with 1 Axes>"
      ]
     },
     "metadata": {
      "needs_background": "light"
     },
     "output_type": "display_data"
    },
    {
     "name": "stdout",
     "output_type": "stream",
     "text": [
      "----- Group 1 -----\n",
      "0.18036305850582138\n",
      "0.21580946566195036\n",
      "----- Group 2 -----\n",
      "0.1769279850379273\n",
      "0.5755484694324695\n"
     ]
    }
   ],
   "source": [
    "adata = {}\n",
    "\n",
    "for case in[\"fg2010_\"]:\n",
    "    print \"--------------------------------------------------------------------------\"\n",
    "    print \"                                \" + case\n",
    "    print \"--------------------------------------------------------------------------\"\n",
    "    \n",
    "    betaHet = bdata[case+\"betaHet\"]\n",
    "    ass = bdata[case+\"ass\"]\n",
    "    \n",
    "    belief_G1 = []\n",
    "    belief_G2 = []\n",
    "    predcont_G1 = []\n",
    "    predcont_G2 = []\n",
    "    \n",
    "    for i in xrange(len(bdata[case+\"ass_repl\"])):\n",
    "        betaHet_repl = bdata[case+\"betaHet_repl\"][i]\n",
    "        ass_repl = bdata[case+\"ass_repl\"][i]\n",
    "        \n",
    "        N = float(sum(np.array(ass_repl) != -1))\n",
    "        error, ass_repl_switched, best_fit, best = groupings_relation(ass_repl, ass)\n",
    "        \n",
    "        d = abs((betaHet_repl[0][0]-betaHet_repl[0][1]) - (betaHet_repl[1][0]-betaHet_repl[1][1]))\n",
    "        \n",
    "        if d<1 and best_fit<0.9:   # it works well except for TR\n",
    "            print betaHet_repl\n",
    "            \n",
    "        if ass_repl == ass_repl_switched:\n",
    "            belief_G1.append(betaHet_repl[0][0])\n",
    "            predcont_G1.append(betaHet_repl[0][1])\n",
    "            belief_G2.append(betaHet_repl[1][0])\n",
    "            predcont_G2.append(betaHet_repl[1][1])\n",
    "        else:\n",
    "            belief_G1.append(betaHet_repl[1][0])\n",
    "            predcont_G1.append(betaHet_repl[1][1])\n",
    "            belief_G2.append(betaHet_repl[0][0])\n",
    "            predcont_G2.append(betaHet_repl[0][1])\n",
    "    \n",
    "    # output\n",
    "    plt.hist(belief_G1, bins='auto')\n",
    "    plt.show()\n",
    "    \n",
    "    plt.hist(belief_G2, bins='auto')\n",
    "    plt.show()\n",
    "    \n",
    "    plt.hist(predcont_G1, bins='auto')\n",
    "    plt.show()\n",
    "    \n",
    "    plt.hist(predcont_G2, bins='auto')\n",
    "    plt.show()\n",
    "    \n",
    "    # method 1\n",
    "    print \"----- Group 1 -----\"\n",
    "    print np.sqrt(sum(pow(belief_G1-sum(belief_G1)/len(belief_G1),2))/(len(belief_G1)-1))\n",
    "    print np.sqrt(sum(pow(predcont_G1-sum(predcont_G1)/len(predcont_G1),2))/(len(predcont_G1)-1))\n",
    "\n",
    "    print \"----- Group 2 -----\"\n",
    "    print np.sqrt(sum(pow(belief_G2-sum(belief_G2)/len(belief_G2),2))/(len(belief_G2)-1))\n",
    "    print np.sqrt(sum(pow(predcont_G2-sum(predcont_G2)/len(predcont_G2),2))/(len(predcont_G2)-1))"
   ]
  },
  {
   "cell_type": "markdown",
   "metadata": {},
   "source": [
    "## deOliveira et al. (2015) Bootstrapped Standard Errors"
   ]
  },
  {
   "cell_type": "code",
   "execution_count": 28,
   "metadata": {},
   "outputs": [
    {
     "name": "stdout",
     "output_type": "stream",
     "text": [
      "--------------------------------------------------------------------------\n",
      "                                deOliveira_\n",
      "--------------------------------------------------------------------------\n"
     ]
    },
    {
     "data": {
      "image/png": "[encoded data removed]",
      "text/plain": [
       "<Figure size 432x288 with 1 Axes>"
      ]
     },
     "metadata": {
      "needs_background": "light"
     },
     "output_type": "display_data"
    },
    {
     "data": {
      "image/png": "[encoded data removed]",
      "text/plain": [
       "<Figure size 432x288 with 1 Axes>"
      ]
     },
     "metadata": {
      "needs_background": "light"
     },
     "output_type": "display_data"
    },
    {
     "name": "stdout",
     "output_type": "stream",
     "text": [
      "----- Group 1 -----\n",
      "0.13535719258557108\n",
      "----- Group 2 -----\n",
      "0.13989689912454284\n"
     ]
    }
   ],
   "source": [
    "adata = {}\n",
    "\n",
    "for case in[\"deOliveira_\"]:\n",
    "    print \"--------------------------------------------------------------------------\"\n",
    "    print \"                                \" + case\n",
    "    print \"--------------------------------------------------------------------------\"\n",
    "    \n",
    "    betaHet = bdata[case+\"betaHet\"]\n",
    "    ass = bdata[case+\"ass\"]\n",
    "    \n",
    "    belief_G1 = []\n",
    "    belief_G2 = []\n",
    "    \n",
    "    for i in xrange(len(bdata[case+\"ass_repl\"])):\n",
    "        betaHet_repl = bdata[case+\"betaHet_repl\"][i]\n",
    "        ass_repl = bdata[case+\"ass_repl\"][i]\n",
    "        \n",
    "        N = float(sum(np.array(ass_repl) != -1))\n",
    "        error, ass_repl_switched, best_fit, best = groupings_relation(ass_repl, ass)\n",
    "        \n",
    "        #d = abs((betaHet_repl[0][0]-betaHet_repl[0][1]) - (betaHet_repl[1][0]-betaHet_repl[1][1]))\n",
    "        \n",
    "        #if d<1 and best_fit<0.9:   # it works well except for TR\n",
    "        #    print betaHet_repl\n",
    "            \n",
    "        if ass_repl == ass_repl_switched:\n",
    "            belief_G1.append(betaHet_repl[0][0])\n",
    "            belief_G2.append(betaHet_repl[1][0])\n",
    "        else:\n",
    "            belief_G1.append(betaHet_repl[1][0])\n",
    "            belief_G2.append(betaHet_repl[0][0])\n",
    "    \n",
    "    # output\n",
    "    plt.hist(belief_G1, bins='auto')\n",
    "    plt.show()\n",
    "    \n",
    "    plt.hist(belief_G2, bins='auto')\n",
    "    plt.show()\n",
    "    \n",
    "    # method 1\n",
    "    print \"----- Group 1 -----\"\n",
    "    print np.sqrt(sum(pow(belief_G1-sum(belief_G1)/len(belief_G1),2))/(len(belief_G1)-1))\n",
    "\n",
    "    print \"----- Group 2 -----\"\n",
    "    print np.sqrt(sum(pow(belief_G2-sum(belief_G2)/len(belief_G2),2))/(len(belief_G2)-1))"
   ]
  }
 ],
 "metadata": {
  "kernelspec": {
   "display_name": "Python 2",
   "language": "python",
   "name": "python2"
  },
  "language_info": {
   "codemirror_mode": {
    "name": "ipython",
    "version": 2
   },
   "file_extension": ".py",
   "mimetype": "text/x-python",
   "name": "python",
   "nbconvert_exporter": "python",
   "pygments_lexer": "ipython2",
   "version": "2.7.16"
  }
 },
 "nbformat": 4,
 "nbformat_minor": 2
}
